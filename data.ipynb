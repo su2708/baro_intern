{
 "cells": [
  {
   "cell_type": "markdown",
   "metadata": {},
   "source": [
    "### 데이터셋 설명\n",
    "- 팀스파르타가 지난해 처음 선보인 IT인재 채용 플랫폼, **인텔리픽**은 기업에게는 뛰어난 인재들을 채용 가능한 공간으로, 지원자 입장에서는 믿을 수 있는 기업을 선택할 수 있는 공간으로 자리매김 했습니다. 이러한 채용 플랫폼 **인텔리픽**에서 얻어진 데이터를 활용하여 분석을 진행하는 것이 여러분들의 임무입니다 🙂\n",
    "\n",
    "- **데이터를 구성하고 있는 column에 대한 설명**\n",
    "    - **`createdat`**: 이력이 생성된 날짜 정보\n",
    "    - **`userid`**: 사용자를 구분하는 고유 식별자.\n",
    "    - **`type`**: 해당 이력이 이력서 첨삭(`resume`)인지, 면접 코칭(`interview`)인지를 나타냄.\n",
    "    - **`result`**: 각 서비스 타입(`type`)에서의 결과(`FAIL`, `PASS`, `CANCEL`).\n",
    "    - **`course`**: 사용자가 참여하고 있는 교육 과정(`NBCamp`, `Hanghae`).\n",
    "    - **`status`**: 사용자 최종 상태(`취업 준비중`, `최종합격`, `취업 보류`)."
   ]
  },
  {
   "cell_type": "code",
   "execution_count": 1,
   "metadata": {},
   "outputs": [
    {
     "data": {
      "text/html": [
       "<div>\n",
       "<style scoped>\n",
       "    .dataframe tbody tr th:only-of-type {\n",
       "        vertical-align: middle;\n",
       "    }\n",
       "\n",
       "    .dataframe tbody tr th {\n",
       "        vertical-align: top;\n",
       "    }\n",
       "\n",
       "    .dataframe thead th {\n",
       "        text-align: right;\n",
       "    }\n",
       "</style>\n",
       "<table border=\"1\" class=\"dataframe\">\n",
       "  <thead>\n",
       "    <tr style=\"text-align: right;\">\n",
       "      <th></th>\n",
       "      <th>createdat</th>\n",
       "      <th>userid</th>\n",
       "      <th>type</th>\n",
       "      <th>result</th>\n",
       "      <th>course</th>\n",
       "      <th>status</th>\n",
       "    </tr>\n",
       "  </thead>\n",
       "  <tbody>\n",
       "    <tr>\n",
       "      <th>0</th>\n",
       "      <td>23/07/03 1:31</td>\n",
       "      <td>12a11b388392a1</td>\n",
       "      <td>resume</td>\n",
       "      <td>FAIL</td>\n",
       "      <td>NBCamp</td>\n",
       "      <td>취업 준비중</td>\n",
       "    </tr>\n",
       "    <tr>\n",
       "      <th>1</th>\n",
       "      <td>23/07/03 11:27</td>\n",
       "      <td>8399fb63a855cb</td>\n",
       "      <td>resume</td>\n",
       "      <td>FAIL</td>\n",
       "      <td>NBCamp</td>\n",
       "      <td>취업 준비중</td>\n",
       "    </tr>\n",
       "    <tr>\n",
       "      <th>2</th>\n",
       "      <td>23/07/03 11:33</td>\n",
       "      <td>223856945edb24</td>\n",
       "      <td>interview</td>\n",
       "      <td>PASS</td>\n",
       "      <td>Hanghae</td>\n",
       "      <td>취업 준비중</td>\n",
       "    </tr>\n",
       "    <tr>\n",
       "      <th>3</th>\n",
       "      <td>23/07/03 15:09</td>\n",
       "      <td>94a4d087e77881</td>\n",
       "      <td>resume</td>\n",
       "      <td>PASS</td>\n",
       "      <td>NBCamp</td>\n",
       "      <td>취업 준비중</td>\n",
       "    </tr>\n",
       "    <tr>\n",
       "      <th>4</th>\n",
       "      <td>23/07/03 22:06</td>\n",
       "      <td>60becf747f196f</td>\n",
       "      <td>resume</td>\n",
       "      <td>FAIL</td>\n",
       "      <td>Hanghae</td>\n",
       "      <td>취업 준비중</td>\n",
       "    </tr>\n",
       "    <tr>\n",
       "      <th>...</th>\n",
       "      <td>...</td>\n",
       "      <td>...</td>\n",
       "      <td>...</td>\n",
       "      <td>...</td>\n",
       "      <td>...</td>\n",
       "      <td>...</td>\n",
       "    </tr>\n",
       "    <tr>\n",
       "      <th>2098</th>\n",
       "      <td>23/12/29 22:25</td>\n",
       "      <td>348ec7700e02bc</td>\n",
       "      <td>resume</td>\n",
       "      <td>FAIL</td>\n",
       "      <td>NBCamp</td>\n",
       "      <td>취업 준비중</td>\n",
       "    </tr>\n",
       "    <tr>\n",
       "      <th>2099</th>\n",
       "      <td>23/12/30 14:18</td>\n",
       "      <td>82ae0852b17ba9</td>\n",
       "      <td>resume</td>\n",
       "      <td>PASS</td>\n",
       "      <td>NBCamp</td>\n",
       "      <td>취업 준비중</td>\n",
       "    </tr>\n",
       "    <tr>\n",
       "      <th>2100</th>\n",
       "      <td>23/12/31 3:04</td>\n",
       "      <td>37b35594ebca42</td>\n",
       "      <td>resume</td>\n",
       "      <td>FAIL</td>\n",
       "      <td>NBCamp</td>\n",
       "      <td>취업 준비중</td>\n",
       "    </tr>\n",
       "    <tr>\n",
       "      <th>2101</th>\n",
       "      <td>23/12/31 3:10</td>\n",
       "      <td>37b35594ebca42</td>\n",
       "      <td>resume</td>\n",
       "      <td>FAIL</td>\n",
       "      <td>NBCamp</td>\n",
       "      <td>취업 준비중</td>\n",
       "    </tr>\n",
       "    <tr>\n",
       "      <th>2102</th>\n",
       "      <td>23/12/31 17:13</td>\n",
       "      <td>58c3b4231e173c</td>\n",
       "      <td>resume</td>\n",
       "      <td>PASS</td>\n",
       "      <td>NBCamp</td>\n",
       "      <td>취업 준비중</td>\n",
       "    </tr>\n",
       "  </tbody>\n",
       "</table>\n",
       "<p>2103 rows × 6 columns</p>\n",
       "</div>"
      ],
      "text/plain": [
       "           createdat          userid       type result   course  status\n",
       "0      23/07/03 1:31  12a11b388392a1     resume   FAIL   NBCamp  취업 준비중\n",
       "1     23/07/03 11:27  8399fb63a855cb     resume   FAIL   NBCamp  취업 준비중\n",
       "2     23/07/03 11:33  223856945edb24  interview   PASS  Hanghae  취업 준비중\n",
       "3     23/07/03 15:09  94a4d087e77881     resume   PASS   NBCamp  취업 준비중\n",
       "4     23/07/03 22:06  60becf747f196f     resume   FAIL  Hanghae  취업 준비중\n",
       "...              ...             ...        ...    ...      ...     ...\n",
       "2098  23/12/29 22:25  348ec7700e02bc     resume   FAIL   NBCamp  취업 준비중\n",
       "2099  23/12/30 14:18  82ae0852b17ba9     resume   PASS   NBCamp  취업 준비중\n",
       "2100   23/12/31 3:04  37b35594ebca42     resume   FAIL   NBCamp  취업 준비중\n",
       "2101   23/12/31 3:10  37b35594ebca42     resume   FAIL   NBCamp  취업 준비중\n",
       "2102  23/12/31 17:13  58c3b4231e173c     resume   PASS   NBCamp  취업 준비중\n",
       "\n",
       "[2103 rows x 6 columns]"
      ]
     },
     "execution_count": 1,
     "metadata": {},
     "output_type": "execute_result"
    }
   ],
   "source": [
    "import pandas as pd\n",
    "\n",
    "df = pd.read_csv(\"데이터분석온보딩과제.csv\")\n",
    "df"
   ]
  },
  {
   "cell_type": "markdown",
   "metadata": {},
   "source": [
    "#### 1. 주어진 데이터 셋에서, 각각 아래 질문에 해당하는 답을 채워주세요. (SQL / python 코드 등 활용)\n",
    "    1. 인텔리픽의 취업코칭 서비스를 한 번 이상 활용한 인원은 몇명인가요? \n",
    "    2. 해당 데이터에서 최종합격한 인원은 몇명이고, 최종 합격 그룹의 이력서 진단 / 면접 코칭 신청 평균 횟수는 몇 회 인가요?\n",
    "    3. 이력서 진단 + 면접 코칭을 가장 많이 활용한 인원의 각 횟수는 몇번이며, 해당 인원의 id 값은 무엇인가요?"
   ]
  },
  {
   "cell_type": "code",
   "execution_count": 5,
   "metadata": {},
   "outputs": [
    {
     "data": {
      "text/plain": [
       "790"
      ]
     },
     "execution_count": 5,
     "metadata": {},
     "output_type": "execute_result"
    }
   ],
   "source": [
    "# 1번 문항\n",
    "num_users_used_service = df[\"userid\"].nunique()\n",
    "num_users_used_service"
   ]
  },
  {
   "cell_type": "code",
   "execution_count": 9,
   "metadata": {},
   "outputs": [
    {
     "name": "stdout",
     "output_type": "stream",
     "text": [
      "241 3.975103734439834\n"
     ]
    }
   ],
   "source": [
    "# 2번 문항\n",
    "final_pass_users = df[df[\"status\"] == \"최종합격\"][\"userid\"].nunique()\n",
    "final_pass_group = df[df[\"status\"] == \"최종합격\"]\n",
    "avg_resume_interview_count = final_pass_group.groupby(\"userid\")[\"type\"].count().mean()\n",
    "\n",
    "print(final_pass_users, avg_resume_interview_count)"
   ]
  },
  {
   "cell_type": "code",
   "execution_count": 35,
   "metadata": {},
   "outputs": [
    {
     "name": "stdout",
     "output_type": "stream",
     "text": [
      "11 1133a29433dd78 8 3\n"
     ]
    }
   ],
   "source": [
    "# 3번 문항\n",
    "user_usage_counts = df.groupby(\"userid\")[\"type\"].count()\n",
    "max_usage_count = user_usage_counts.max()\n",
    "most_active_user = user_usage_counts.idxmax()\n",
    "\n",
    "resume_count = df[(df[\"userid\"]==most_active_user) & (df[\"type\"]==\"resume\")].shape[0]\n",
    "interview_count = df[(df[\"userid\"]==most_active_user) & (df[\"type\"]==\"interview\")].shape[0]\n",
    "\n",
    "print(max_usage_count, most_active_user, resume_count, interview_count)"
   ]
  },
  {
   "cell_type": "markdown",
   "metadata": {},
   "source": [
    "#### 2. 주어진 데이터 셋에서, 각각 아래 질문에 해당하는 답을 작성하고 근거가 필요한 문제의 경우 답을 도출한 근거를 설명해 주세요.\n",
    "    1. 첫 취업코칭 신청 이후, 다음 코칭을 받기 까지의 평균 어느정도의 기간이 걸렸나요? 어떤 방식으로 평균 기간을 도출했나요? (한번만 코칭을 받은 사람은 제외)\n",
    "    2. 인텔리픽 서비스 이용자 중, course별 최종 합격인원은 각각 몇 명, 몇 퍼센트인가요?\n",
    "    3. 취업 코칭 이후 평균 대기기간이 실제 합격 여부에 통계적으로 유의미한 영향을 주는지 아닌지 판단하고 어떤 근거로 그러한 판단을 했는지 작성하세요."
   ]
  },
  {
   "cell_type": "code",
   "execution_count": null,
   "metadata": {},
   "outputs": [
    {
     "name": "stdout",
     "output_type": "stream",
     "text": [
      "userid\n",
      "100547742f167a    0.0\n",
      "1033f630772c0b    NaN\n",
      "103aa998952bc3    0.0\n",
      "10583770ca51be    NaN\n",
      "106f9f885fda28    0.0\n",
      "                 ... \n",
      "99b98440e1c691    NaN\n",
      "99c7f086a6e73b    0.0\n",
      "99e05b79363fc6    NaN\n",
      "99e0d646fa2280    0.0\n",
      "99e5e3390b1ab4    NaN\n",
      "Name: createdat, Length: 790, dtype: float64 userid\n",
      "100547742f167a    NaN\n",
      "1033f630772c0b    NaN\n",
      "103aa998952bc3    NaN\n",
      "10583770ca51be    0.0\n",
      "106f9f885fda28    NaN\n",
      "                 ... \n",
      "99b98440e1c691    0.0\n",
      "99c7f086a6e73b    NaN\n",
      "99e05b79363fc6    0.0\n",
      "99e0d646fa2280    NaN\n",
      "99e5e3390b1ab4    0.0\n",
      "Name: createdat, Length: 790, dtype: float64\n"
     ]
    },
    {
     "data": {
      "text/plain": [
       "(np.float64(nan), np.float64(nan))"
      ]
     },
     "execution_count": 100,
     "metadata": {},
     "output_type": "execute_result"
    }
   ],
   "source": [
    "# 2-3. 취업 코칭 이후 평균 대기기간이 합격 여부에 미치는 영향 검정 (통계적 검정)\n",
    "import scipy.stats as stats\n",
    "\n",
    "# 최종합격 / 취업 준비중 그룹 나누기\n",
    "final_pass_group = df[df[\"status\"] == \"최종합격\"].groupby(\"userid\")[\"createdat\"].min()\n",
    "waiting_group = df[df[\"status\"] == \"취업 준비중\"].groupby(\"userid\")[\"createdat\"].min()\n",
    "\n",
    "# 첫 코칭 이후 대기 기간 계산\n",
    "final_pass_wait = (final_pass_group - df.groupby(\"userid\")[\"createdat\"].min()).dt.days\n",
    "waiting_group_wait = (waiting_group - df.groupby(\"userid\")[\"createdat\"].min()).dt.days\n",
    "print(final_pass_wait, waiting_group_wait)\n",
    "# 두 그룹 간 t-test 수행 (귀무가설: 대기기간 차이가 없다)\n",
    "t_stat, p_value = stats.ttest_ind(final_pass_wait.dropna(), waiting_group_wait.dropna(), equal_var=False)\n",
    "\n",
    "(t_stat, p_value)"
   ]
  },
  {
   "cell_type": "code",
   "execution_count": null,
   "metadata": {},
   "outputs": [
    {
     "name": "stdout",
     "output_type": "stream",
     "text": [
      "userid\n",
      "100547742f167a   2023-09-26 00:52:00\n",
      "1033f630772c0b   2023-12-11 15:08:00\n",
      "103aa998952bc3   2023-09-26 02:06:00\n",
      "106f9f885fda28   2023-07-06 11:35:00\n",
      "10759e844d7663   2023-09-01 16:19:00\n",
      "                         ...        \n",
      "99b98440e1c691   2023-11-13 23:06:00\n",
      "99c7f086a6e73b   2023-07-15 01:29:00\n",
      "99e05b79363fc6   2023-12-07 14:47:00\n",
      "99e0d646fa2280   2023-08-10 00:03:00\n",
      "99e5e3390b1ab4   2023-09-08 11:55:00\n",
      "Name: second_coaching, Length: 551, dtype: datetime64[ns]\n",
      "7.054446460980036\n"
     ]
    },
    {
     "name": "stderr",
     "output_type": "stream",
     "text": [
      "C:\\Users\\Public\\Documents\\ESTsoft\\CreatorTemp\\ipykernel_24368\\3793851042.py:29: SettingWithCopyWarning: \n",
      "A value is trying to be set on a copy of a slice from a DataFrame.\n",
      "Try using .loc[row_indexer,col_indexer] = value instead\n",
      "\n",
      "See the caveats in the documentation: https://pandas.pydata.org/pandas-docs/stable/user_guide/indexing.html#returning-a-view-versus-a-copy\n",
      "  valid_users[\"duration\"] = (valid_users[\"second_coaching\"] - valid_users[\"first_coaching\"]).dt.days\n"
     ]
    }
   ],
   "source": [
    "# 1번 문항\n",
    "\n",
    "# 날짜 데이터 변환\n",
    "df[\"createdat\"] = pd.to_datetime(df[\"createdat\"], format=\"%Y-%m-%d %H:%M:%S\")\n",
    "\n",
    "# 각 사용자의 첫 번째와 두 번째 취업코칭 신청 날짜 찾기\n",
    "df_sorted = df.sort_values(by=[\"userid\", \"createdat\"])  # userid별로 시간순 정렬\n",
    "\n",
    "# 첫 번째와 두 번째 신청 날짜를 찾기 위해 그룹화 후 rank(method=\"first\") 사용\n",
    "df_sorted[\"rank\"] = df_sorted.groupby(\"userid\")[\"createdat\"].rank(method=\"first\")\n",
    "\n",
    "# 첫 번째 신청 날짜\n",
    "first_coaching_dates = df_sorted[df_sorted[\"rank\"] == 1].set_index(\"userid\")[\"createdat\"]\n",
    "\n",
    "# 두 번째 신청 날짜\n",
    "second_coaching_dates = df_sorted[df_sorted[\"rank\"] == 2].set_index(\"userid\")[\"createdat\"]\n",
    "\n",
    "# 데이터프레임으로 정리\n",
    "user_coaching_dates = pd.DataFrame({\n",
    "    \"first_coaching\": first_coaching_dates,\n",
    "    \"second_coaching\": second_coaching_dates\n",
    "})\n",
    "\n",
    "# 한 번만 받은 사람 제외 (NaT 값 제거거)\n",
    "valid_users = user_coaching_dates.dropna()\n",
    "\n",
    "# 첫 번째와 두 번째 코칭 신청 사이의 기간 계산\n",
    "valid_users[\"duration\"] = (valid_users[\"second_coaching\"] - valid_users[\"first_coaching\"]).dt.days\n",
    "\n",
    "# 평균 기간 계산\n",
    "average_duration = valid_users[\"duration\"].mean()\n",
    "print(average_duration)"
   ]
  },
  {
   "cell_type": "code",
   "execution_count": 99,
   "metadata": {},
   "outputs": [
    {
     "data": {
      "text/html": [
       "<div>\n",
       "<style scoped>\n",
       "    .dataframe tbody tr th:only-of-type {\n",
       "        vertical-align: middle;\n",
       "    }\n",
       "\n",
       "    .dataframe tbody tr th {\n",
       "        vertical-align: top;\n",
       "    }\n",
       "\n",
       "    .dataframe thead th {\n",
       "        text-align: right;\n",
       "    }\n",
       "</style>\n",
       "<table border=\"1\" class=\"dataframe\">\n",
       "  <thead>\n",
       "    <tr style=\"text-align: right;\">\n",
       "      <th></th>\n",
       "      <th>userid_x</th>\n",
       "      <th>userid_y</th>\n",
       "    </tr>\n",
       "    <tr>\n",
       "      <th>course</th>\n",
       "      <th></th>\n",
       "      <th></th>\n",
       "    </tr>\n",
       "  </thead>\n",
       "  <tbody>\n",
       "    <tr>\n",
       "      <th>Hanghae</th>\n",
       "      <td>106</td>\n",
       "      <td>35.099338</td>\n",
       "    </tr>\n",
       "    <tr>\n",
       "      <th>NBCamp</th>\n",
       "      <td>135</td>\n",
       "      <td>27.663934</td>\n",
       "    </tr>\n",
       "  </tbody>\n",
       "</table>\n",
       "</div>"
      ],
      "text/plain": [
       "         userid_x   userid_y\n",
       "course                      \n",
       "Hanghae       106  35.099338\n",
       "NBCamp        135  27.663934"
      ]
     },
     "execution_count": 99,
     "metadata": {},
     "output_type": "execute_result"
    }
   ],
   "source": [
    "# 2번 문항\n",
    "\n",
    "# course별 최종 합격 인원 및 전체 인원\n",
    "course_final_pass = df[df[\"status\"] == \"최종합격\"].groupby(\"course\")[\"userid\"].nunique()\n",
    "course_total_users = df.groupby(\"course\")[\"userid\"].nunique()\n",
    "\n",
    "# 최종 합격 비율 계산\n",
    "course_final_pass_ratio = (course_final_pass / course_total_users) * 100\n",
    "\n",
    "# course별 최종 합격 인원 및 최종 합격 비율\n",
    "course_final = pd.merge(course_final_pass, course_final_pass_ratio, left_on=\"course\", right_on=\"course\", how=\"left\")\n",
    "course_final"
   ]
  },
  {
   "cell_type": "code",
   "execution_count": null,
   "metadata": {},
   "outputs": [],
   "source": [
    "# 3번 문항\n",
    "\n"
   ]
  }
 ],
 "metadata": {
  "kernelspec": {
   "display_name": "baro_intern",
   "language": "python",
   "name": "python3"
  },
  "language_info": {
   "codemirror_mode": {
    "name": "ipython",
    "version": 3
   },
   "file_extension": ".py",
   "mimetype": "text/x-python",
   "name": "python",
   "nbconvert_exporter": "python",
   "pygments_lexer": "ipython3",
   "version": "3.12.9"
  }
 },
 "nbformat": 4,
 "nbformat_minor": 2
}
