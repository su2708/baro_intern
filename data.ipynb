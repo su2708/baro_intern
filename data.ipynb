{
 "cells": [
  {
   "cell_type": "markdown",
   "metadata": {},
   "source": [
    "### 데이터셋 설명\n",
    "- 팀스파르타가 지난해 처음 선보인 IT인재 채용 플랫폼, **인텔리픽**은 기업에게는 뛰어난 인재들을 채용 가능한 공간으로, 지원자 입장에서는 믿을 수 있는 기업을 선택할 수 있는 공간으로 자리매김 했습니다. 이러한 채용 플랫폼 **인텔리픽**에서 얻어진 데이터를 활용하여 분석을 진행하는 것이 여러분들의 임무입니다 🙂\n",
    "\n",
    "- **데이터를 구성하고 있는 column에 대한 설명**\n",
    "    - **`createdat`**: 이력이 생성된 날짜 정보\n",
    "    - **`userid`**: 사용자를 구분하는 고유 식별자.\n",
    "    - **`type`**: 해당 이력이 이력서 첨삭(`resume`)인지, 면접 코칭(`interview`)인지를 나타냄.\n",
    "    - **`result`**: 각 서비스 타입(`type`)에서의 결과(`FAIL`, `PASS`, `CANCEL`).\n",
    "    - **`course`**: 사용자가 참여하고 있는 교육 과정(`NBCamp`, `Hanghae`).\n",
    "    - **`status`**: 사용자 최종 상태(`취업 준비중`, `최종합격`, `취업 보류`)."
   ]
  },
  {
   "cell_type": "code",
   "execution_count": 1,
   "metadata": {},
   "outputs": [
    {
     "data": {
      "text/html": [
       "<div>\n",
       "<style scoped>\n",
       "    .dataframe tbody tr th:only-of-type {\n",
       "        vertical-align: middle;\n",
       "    }\n",
       "\n",
       "    .dataframe tbody tr th {\n",
       "        vertical-align: top;\n",
       "    }\n",
       "\n",
       "    .dataframe thead th {\n",
       "        text-align: right;\n",
       "    }\n",
       "</style>\n",
       "<table border=\"1\" class=\"dataframe\">\n",
       "  <thead>\n",
       "    <tr style=\"text-align: right;\">\n",
       "      <th></th>\n",
       "      <th>createdat</th>\n",
       "      <th>userid</th>\n",
       "      <th>type</th>\n",
       "      <th>result</th>\n",
       "      <th>course</th>\n",
       "      <th>status</th>\n",
       "    </tr>\n",
       "  </thead>\n",
       "  <tbody>\n",
       "    <tr>\n",
       "      <th>0</th>\n",
       "      <td>23/07/03 1:31</td>\n",
       "      <td>12a11b388392a1</td>\n",
       "      <td>resume</td>\n",
       "      <td>FAIL</td>\n",
       "      <td>NBCamp</td>\n",
       "      <td>취업 준비중</td>\n",
       "    </tr>\n",
       "    <tr>\n",
       "      <th>1</th>\n",
       "      <td>23/07/03 11:27</td>\n",
       "      <td>8399fb63a855cb</td>\n",
       "      <td>resume</td>\n",
       "      <td>FAIL</td>\n",
       "      <td>NBCamp</td>\n",
       "      <td>취업 준비중</td>\n",
       "    </tr>\n",
       "    <tr>\n",
       "      <th>2</th>\n",
       "      <td>23/07/03 11:33</td>\n",
       "      <td>223856945edb24</td>\n",
       "      <td>interview</td>\n",
       "      <td>PASS</td>\n",
       "      <td>Hanghae</td>\n",
       "      <td>취업 준비중</td>\n",
       "    </tr>\n",
       "    <tr>\n",
       "      <th>3</th>\n",
       "      <td>23/07/03 15:09</td>\n",
       "      <td>94a4d087e77881</td>\n",
       "      <td>resume</td>\n",
       "      <td>PASS</td>\n",
       "      <td>NBCamp</td>\n",
       "      <td>취업 준비중</td>\n",
       "    </tr>\n",
       "    <tr>\n",
       "      <th>4</th>\n",
       "      <td>23/07/03 22:06</td>\n",
       "      <td>60becf747f196f</td>\n",
       "      <td>resume</td>\n",
       "      <td>FAIL</td>\n",
       "      <td>Hanghae</td>\n",
       "      <td>취업 준비중</td>\n",
       "    </tr>\n",
       "    <tr>\n",
       "      <th>...</th>\n",
       "      <td>...</td>\n",
       "      <td>...</td>\n",
       "      <td>...</td>\n",
       "      <td>...</td>\n",
       "      <td>...</td>\n",
       "      <td>...</td>\n",
       "    </tr>\n",
       "    <tr>\n",
       "      <th>2098</th>\n",
       "      <td>23/12/29 22:25</td>\n",
       "      <td>348ec7700e02bc</td>\n",
       "      <td>resume</td>\n",
       "      <td>FAIL</td>\n",
       "      <td>NBCamp</td>\n",
       "      <td>취업 준비중</td>\n",
       "    </tr>\n",
       "    <tr>\n",
       "      <th>2099</th>\n",
       "      <td>23/12/30 14:18</td>\n",
       "      <td>82ae0852b17ba9</td>\n",
       "      <td>resume</td>\n",
       "      <td>PASS</td>\n",
       "      <td>NBCamp</td>\n",
       "      <td>취업 준비중</td>\n",
       "    </tr>\n",
       "    <tr>\n",
       "      <th>2100</th>\n",
       "      <td>23/12/31 3:04</td>\n",
       "      <td>37b35594ebca42</td>\n",
       "      <td>resume</td>\n",
       "      <td>FAIL</td>\n",
       "      <td>NBCamp</td>\n",
       "      <td>취업 준비중</td>\n",
       "    </tr>\n",
       "    <tr>\n",
       "      <th>2101</th>\n",
       "      <td>23/12/31 3:10</td>\n",
       "      <td>37b35594ebca42</td>\n",
       "      <td>resume</td>\n",
       "      <td>FAIL</td>\n",
       "      <td>NBCamp</td>\n",
       "      <td>취업 준비중</td>\n",
       "    </tr>\n",
       "    <tr>\n",
       "      <th>2102</th>\n",
       "      <td>23/12/31 17:13</td>\n",
       "      <td>58c3b4231e173c</td>\n",
       "      <td>resume</td>\n",
       "      <td>PASS</td>\n",
       "      <td>NBCamp</td>\n",
       "      <td>취업 준비중</td>\n",
       "    </tr>\n",
       "  </tbody>\n",
       "</table>\n",
       "<p>2103 rows × 6 columns</p>\n",
       "</div>"
      ],
      "text/plain": [
       "           createdat          userid       type result   course  status\n",
       "0      23/07/03 1:31  12a11b388392a1     resume   FAIL   NBCamp  취업 준비중\n",
       "1     23/07/03 11:27  8399fb63a855cb     resume   FAIL   NBCamp  취업 준비중\n",
       "2     23/07/03 11:33  223856945edb24  interview   PASS  Hanghae  취업 준비중\n",
       "3     23/07/03 15:09  94a4d087e77881     resume   PASS   NBCamp  취업 준비중\n",
       "4     23/07/03 22:06  60becf747f196f     resume   FAIL  Hanghae  취업 준비중\n",
       "...              ...             ...        ...    ...      ...     ...\n",
       "2098  23/12/29 22:25  348ec7700e02bc     resume   FAIL   NBCamp  취업 준비중\n",
       "2099  23/12/30 14:18  82ae0852b17ba9     resume   PASS   NBCamp  취업 준비중\n",
       "2100   23/12/31 3:04  37b35594ebca42     resume   FAIL   NBCamp  취업 준비중\n",
       "2101   23/12/31 3:10  37b35594ebca42     resume   FAIL   NBCamp  취업 준비중\n",
       "2102  23/12/31 17:13  58c3b4231e173c     resume   PASS   NBCamp  취업 준비중\n",
       "\n",
       "[2103 rows x 6 columns]"
      ]
     },
     "execution_count": 1,
     "metadata": {},
     "output_type": "execute_result"
    }
   ],
   "source": [
    "import pandas as pd\n",
    "\n",
    "df = pd.read_csv(\"데이터분석온보딩과제.csv\")\n",
    "df"
   ]
  },
  {
   "cell_type": "markdown",
   "metadata": {},
   "source": [
    "#### 1. 주어진 데이터 셋에서, 각각 아래 질문에 해당하는 답을 채워주세요. (SQL / python 코드 등 활용)\n",
    "    1. 인텔리픽의 취업코칭 서비스를 한 번 이상 활용한 인원은 몇명인가요? \n",
    "    2. 해당 데이터에서 최종합격한 인원은 몇명이고, 최종 합격 그룹의 이력서 진단 / 면접 코칭 신청 평균 횟수는 몇 회 인가요?\n",
    "    3. 이력서 진단 + 면접 코칭을 가장 많이 활용한 인원의 각 횟수는 몇번이며, 해당 인원의 id 값은 무엇인가요?"
   ]
  },
  {
   "cell_type": "code",
   "execution_count": 5,
   "metadata": {},
   "outputs": [
    {
     "data": {
      "text/plain": [
       "790"
      ]
     },
     "execution_count": 5,
     "metadata": {},
     "output_type": "execute_result"
    }
   ],
   "source": [
    "# 1번 문항\n",
    "num_users_used_service = df[\"userid\"].nunique()\n",
    "num_users_used_service"
   ]
  },
  {
   "cell_type": "code",
   "execution_count": 9,
   "metadata": {},
   "outputs": [
    {
     "name": "stdout",
     "output_type": "stream",
     "text": [
      "241 3.975103734439834\n"
     ]
    }
   ],
   "source": [
    "# 2번 문항\n",
    "final_pass_users = df[df[\"status\"] == \"최종합격\"][\"userid\"].nunique()\n",
    "final_pass_group = df[df[\"status\"] == \"최종합격\"]\n",
    "avg_resume_interview_count = final_pass_group.groupby(\"userid\")[\"type\"].count().mean()\n",
    "\n",
    "print(final_pass_users, avg_resume_interview_count)"
   ]
  },
  {
   "cell_type": "code",
   "execution_count": 35,
   "metadata": {},
   "outputs": [
    {
     "name": "stdout",
     "output_type": "stream",
     "text": [
      "11 1133a29433dd78 8 3\n"
     ]
    }
   ],
   "source": [
    "# 3번 문항\n",
    "user_usage_counts = df.groupby(\"userid\")[\"type\"].count()\n",
    "max_usage_count = user_usage_counts.max()\n",
    "most_active_user = user_usage_counts.idxmax()\n",
    "\n",
    "resume_count = df[(df[\"userid\"]==most_active_user) & (df[\"type\"]==\"resume\")].shape[0]\n",
    "interview_count = df[(df[\"userid\"]==most_active_user) & (df[\"type\"]==\"interview\")].shape[0]\n",
    "\n",
    "print(max_usage_count, most_active_user, resume_count, interview_count)"
   ]
  },
  {
   "cell_type": "code",
   "execution_count": null,
   "metadata": {},
   "outputs": [],
   "source": []
  }
 ],
 "metadata": {
  "kernelspec": {
   "display_name": "baro_intern",
   "language": "python",
   "name": "python3"
  },
  "language_info": {
   "codemirror_mode": {
    "name": "ipython",
    "version": 3
   },
   "file_extension": ".py",
   "mimetype": "text/x-python",
   "name": "python",
   "nbconvert_exporter": "python",
   "pygments_lexer": "ipython3",
   "version": "3.12.9"
  }
 },
 "nbformat": 4,
 "nbformat_minor": 2
}
